{
 "cells": [
  {
   "cell_type": "markdown",
   "metadata": {},
   "source": [
    "Before you turn this problem in, make sure everything runs as expected. First, **restart the kernel** (in the menubar, select Kernel$\\rightarrow$Restart) and then **run all cells** (in the menubar, select Cell$\\rightarrow$Run All).\n",
    "\n",
    "Make sure you fill in any place that says `YOUR CODE HERE` or \"YOUR ANSWER HERE\", as well as your name and collaborators below:"
   ]
  },
  {
   "cell_type": "code",
   "execution_count": 20,
   "metadata": {},
   "outputs": [],
   "source": [
    "NAME = \"Jip Swartjes, #u940284, 2010914#\"\n",
    "COLLABORATORS = \"Chavon Gradus, #2008383\""
   ]
  },
  {
   "cell_type": "markdown",
   "metadata": {},
   "source": [
    "---"
   ]
  },
  {
   "cell_type": "markdown",
   "metadata": {},
   "source": [
    "Fill in the cell above to provide us with your name and student number, like\n",
    "\n",
    "NAME = \"Adam Smith, #student number#\"\n",
    "\n",
    "where you replace \"#student number#\" with your ... (very good!)\n",
    "\n",
    "and if you are doing this with someone else (not more than one other person):\n",
    "\n",
    "COLLABORATORS = \"Karl Marx, #student number#\""
   ]
  },
  {
   "cell_type": "markdown",
   "metadata": {
    "deletable": false,
    "editable": false,
    "nbgrader": {
     "checksum": "a7ae5c69becf064d614c6c38935eca51",
     "grade": false,
     "grade_id": "cell-895e9a7b94992ec9",
     "locked": true,
     "schema_version": 1,
     "solution": false
    }
   },
   "source": [
    "# exam June 7th, 2018\n"
   ]
  },
  {
   "cell_type": "markdown",
   "metadata": {
    "deletable": false,
    "editable": false,
    "nbgrader": {
     "checksum": "bc48d165f54aa364aa34509649fcdef5",
     "grade": false,
     "grade_id": "cell-540987818af25557",
     "locked": true,
     "schema_version": 1,
     "solution": false
    }
   },
   "source": [
    "\n",
    "In the first cell of the notebook, give us your name and student number in the way indicated above. If you do this notebook with --at max.-- one other student, give her/his name and student number as well under \"COLLABORATORS\".\n",
    "\n",
    "Fill in the notebook (see below for code cells and text cells that you need to fill in).\n",
    "\n",
    "If you look at the menus above (File, Edit, View etc.), there is one called \"Cell\". If you click on this, you can change the \"Cell Type\". Choose \"Code\" when you are typing python or R code. Choose \"Markdown\" when you are typing, well, markdown.\n",
    "\n",
    "When you finish the notebook, make sure that you **save it with the output of your code included**. \n",
    "\n",
    "Then put it on github, e.g. by dragging it onto github (see instructions below). \n",
    "\n",
    "Finally, add a link to your README file with the name of this exam: \"Exam June 7, 2018\".\n",
    "\n"
   ]
  },
  {
   "cell_type": "markdown",
   "metadata": {
    "deletable": false,
    "editable": false,
    "nbgrader": {
     "checksum": "6fad9bed312da1b0097e9c520b18e3fb",
     "grade": false,
     "grade_id": "cell-e1cf88cb799f1f43",
     "locked": true,
     "schema_version": 1,
     "solution": false
    }
   },
   "source": [
    "## price effects of mergers\n",
    "\n",
    "We consider a merger in this notebook. \n",
    "\n",
    "First we calculate the equilibrium with three firms, denoted by 1, 2 and 3. Then firms 2 and 3 merge so that we are left with 2 firms; denoted by 1 and 2.\n",
    "\n",
    "We calculate the effects of the merger on the equilibrium price.\n",
    "\n",
    "We start by importing the usual libraries."
   ]
  },
  {
   "cell_type": "code",
   "execution_count": 2,
   "metadata": {
    "deletable": false,
    "editable": false,
    "nbgrader": {
     "checksum": "7bd770ef54db47c3b6c8d0e31f6baef6",
     "grade": false,
     "grade_id": "cell-b895769bf40e183a",
     "locked": true,
     "schema_version": 1,
     "solution": false
    }
   },
   "outputs": [],
   "source": [
    "import matplotlib.pyplot as plt\n",
    "import pandas as pd\n",
    "import numpy as np\n",
    "from scipy import optimize\n",
    "%matplotlib inline"
   ]
  },
  {
   "cell_type": "markdown",
   "metadata": {},
   "source": [
    "The following code helps to calculate the equilibrium for the case with 3 firms. Note that you have seen similar code during the tutorials to calculate the equilibrium with 2 firms.\n",
    "\n",
    "We assume that before the merger each firm has constant marginal costs equal to 0.3. We assume a simple linear (inverse) demand curve of the form $p=1-Q$ where $p$ denotes price and $Q$ total output on the market. Total output equals the sum of each firm's output: $Q= q_1 + q_2+q_3$."
   ]
  },
  {
   "cell_type": "code",
   "execution_count": 3,
   "metadata": {
    "deletable": false,
    "editable": false,
    "nbgrader": {
     "checksum": "3e30f7ac9d9155ef089b8ca56a0c0436",
     "grade": false,
     "grade_id": "cell-f97a25efed556fd2",
     "locked": true,
     "schema_version": 1,
     "solution": false
    }
   },
   "outputs": [],
   "source": [
    "c0 = 0.3\n",
    "vector_c = [c0]*3\n",
    "\n",
    "def p(Q):\n",
    "    return 1 - Q\n",
    "\n",
    "def costs(q,c):\n",
    "    return c*q\n",
    "\n",
    "def profits(q,Q_other,c):\n",
    "    return p(q+Q_other)*q-costs(q,c)\n",
    "\n",
    "def reaction(Q_other,c):\n",
    "    q1 =  optimize.fminbound(lambda x: -profits(x,Q_other,c),0,1,full_output=1)\n",
    "    return q1[0]\n",
    "\n",
    "def fixed_point_three_firms(vector_q,vector_c):\n",
    "    return [vector_q[0]-reaction(vector_q[1]+vector_q[2],vector_c[0]),\n",
    "            vector_q[1]-reaction(vector_q[0]+vector_q[2],vector_c[1]),\n",
    "            vector_q[2]-reaction(vector_q[0]+vector_q[1],vector_c[2])]\n",
    "\n"
   ]
  },
  {
   "cell_type": "markdown",
   "metadata": {
    "deletable": false,
    "editable": false,
    "nbgrader": {
     "checksum": "f6ea3b2416aca7293a5450c45865f242",
     "grade": false,
     "grade_id": "cell-83284c4090d6de8c",
     "locked": true,
     "schema_version": 1,
     "solution": false
    }
   },
   "source": [
    "#### a) [0.5 points] Show that total equilibrium output equals  0.525. Derive the equilibrium price and Herfindahl index; denote these by `P0` and `H0` resp."
   ]
  },
  {
   "cell_type": "code",
   "execution_count": 4,
   "metadata": {
    "deletable": false,
    "nbgrader": {
     "checksum": "a06d73c35395adb00480733b458cb4a5",
     "grade": true,
     "grade_id": "cell-3b8ee172d9950128",
     "locked": false,
     "points": 0.5,
     "schema_version": 1,
     "solution": true
    }
   },
   "outputs": [
    {
     "data": {
      "text/plain": [
       "array([0.175, 0.175, 0.175])"
      ]
     },
     "execution_count": 4,
     "metadata": {},
     "output_type": "execute_result"
    }
   ],
   "source": [
    "initial_guess = [0.17,0.17,0.17]\n",
    "optimize.fsolve(lambda q:fixed_point_three_firms(q, [0.3,0.3,0.3]), initial_guess)\n"
   ]
  },
  {
   "cell_type": "code",
   "execution_count": 5,
   "metadata": {},
   "outputs": [
    {
     "name": "stdout",
     "output_type": "stream",
     "text": [
      "0.5249999999999999\n"
     ]
    }
   ],
   "source": [
    "total_equilibrium_output = 0.175 + 0.175 + 0.175\n",
    "print(total_equilibrium_output)"
   ]
  },
  {
   "cell_type": "code",
   "execution_count": 6,
   "metadata": {},
   "outputs": [
    {
     "name": "stdout",
     "output_type": "stream",
     "text": [
      "0.475\n"
     ]
    }
   ],
   "source": [
    "def p(Q):\n",
    "    return 1 - Q\n",
    "\n",
    "P0 = 1 - 0.525\n",
    "print(P0)\n"
   ]
  },
  {
   "cell_type": "code",
   "execution_count": 7,
   "metadata": {},
   "outputs": [
    {
     "name": "stdout",
     "output_type": "stream",
     "text": [
      "0.33326667\n"
     ]
    }
   ],
   "source": [
    "H0 = 0.3333**2 + 0.3333**2 + 0.3333**2\n",
    "print(H0)"
   ]
  },
  {
   "cell_type": "markdown",
   "metadata": {},
   "source": [
    "The Herfindahl index is the sum of the squares of all market shares. "
   ]
  },
  {
   "cell_type": "markdown",
   "metadata": {
    "deletable": false,
    "editable": false,
    "nbgrader": {
     "checksum": "87b3b3e0e2d645c280e279312e489dc4",
     "grade": false,
     "grade_id": "cell-4b33762aa4a601fe",
     "locked": true,
     "schema_version": 1,
     "solution": false
    }
   },
   "source": [
    "#### b) [0.5 point] Define a function `fixed_point_two_firms` with the same structure as the function `fixed_point_three_firms` above, except that it derives the equilibrium output levels for a duopoly (two firms). Test this function by showing that each of the two firms produces 0.3333 in case both firms have zero costs."
   ]
  },
  {
   "cell_type": "code",
   "execution_count": 8,
   "metadata": {
    "deletable": false,
    "nbgrader": {
     "checksum": "024a1519155d681b57c85292df535a65",
     "grade": true,
     "grade_id": "cell-5ee215676b91f504",
     "locked": false,
     "points": 0.5,
     "schema_version": 1,
     "solution": true
    }
   },
   "outputs": [],
   "source": [
    "c0 = 0.3\n",
    "vector_c = [c0]*3\n",
    "\n",
    "def p(Q):\n",
    "    return 1 - Q\n",
    "\n",
    "def costs(q,c):\n",
    "    return c*q\n",
    "\n",
    "def profits(q,Q_other,c):\n",
    "    return p(q+Q_other)*q-costs(q,c)\n",
    "\n",
    "def reaction(Q_other,c):\n",
    "    q1 =  optimize.fminbound(lambda x: -profits(x,Q_other,c),0,1,full_output=1)\n",
    "    return q1[0]\n",
    "\n",
    "def fixed_point_two_firms(vector_q,vector_c):\n",
    "    return [vector_q[0]-reaction(vector_q[1],vector_c[0]),\n",
    "            vector_q[1]-reaction(vector_q[0],vector_c[1])]\n"
   ]
  },
  {
   "cell_type": "code",
   "execution_count": 9,
   "metadata": {},
   "outputs": [
    {
     "data": {
      "text/plain": [
       "array([0.33333333, 0.33333333])"
      ]
     },
     "execution_count": 9,
     "metadata": {},
     "output_type": "execute_result"
    }
   ],
   "source": [
    "initial_guess = [0.3,0.3]\n",
    "optimize.fsolve(lambda q:fixed_point_two_firms(q, [0,0]), initial_guess)"
   ]
  },
  {
   "cell_type": "markdown",
   "metadata": {
    "deletable": false,
    "editable": false,
    "nbgrader": {
     "checksum": "5291fc8716e367572fde17ebe5844d2f",
     "grade": false,
     "grade_id": "cell-c2fada02efd7b197",
     "locked": true,
     "schema_version": 1,
     "solution": false
    }
   },
   "source": [
    "The Dutch competition authority, ACM, is asked to evaluate the effects of a merger between firms 2 and 3. Firms 2 and 3 claim that by merging they can reduce their constant marginal costs. But it is not clear by how much they will reduce their costs.\n",
    "\n",
    "The ACM assumes that the marginal cost level of the merged firm is uniformly distributed between 0 and the current marginal cost level `c0`. The merger will not affect the marginal cost level of firm 1 who does not merge. Firm 1's cost level remains `c0`.\n",
    "\n",
    "The next cell generates a vector of cost levels for the merged firm, denoted `c_after_merger`. Evaluate \"c_after_merger\" in a separate cell if you do not understand the command that defines it.\n",
    "\n",
    "Then it calculates the equilibrium output levels for (the non-merging) firm 1 and (the merged) firm 2.\n",
    "\n",
    "Note that you need to specify `initial_guess`.\n"
   ]
  },
  {
   "cell_type": "code",
   "execution_count": 10,
   "metadata": {},
   "outputs": [
    {
     "name": "stdout",
     "output_type": "stream",
     "text": [
      "[0.19933618 0.24874245 0.15301843 0.28653909 0.04406971 0.16002672\n",
      " 0.14364726 0.18875688 0.16566892 0.24977635 0.03745226 0.20762319\n",
      " 0.1843185  0.20634356 0.08128128 0.01712141 0.17470383 0.24404145\n",
      " 0.07005244 0.01345427 0.0520794  0.21179066 0.03028989 0.29831121\n",
      " 0.15264471 0.16542533 0.28380576 0.16105285 0.02718225 0.05491261\n",
      " 0.01405255 0.28233904 0.19181568 0.21235509 0.23517986 0.04356276\n",
      " 0.26967969 0.06935582 0.11194173 0.2852896  0.25956508 0.18350967\n",
      " 0.29903883 0.04536956 0.17711305 0.01106052 0.07516037 0.07509241\n",
      " 0.02289626 0.2730132  0.26105903 0.10130875 0.1443985  0.19707847\n",
      " 0.1799102  0.16054481 0.08267896 0.11879001 0.05582859 0.09640694\n",
      " 0.15267945 0.01205432 0.01713627 0.17432198 0.07995772 0.03134981\n",
      " 0.05362784 0.22499605 0.2053634  0.13556435 0.02435564 0.19339101\n",
      " 0.23181813 0.27159388 0.10982927 0.15364349 0.26838922 0.03497968\n",
      " 0.00924875 0.03255313 0.14537434 0.00742674 0.10955682 0.14759232\n",
      " 0.26378434 0.09789717 0.24937067 0.17202476 0.07016956 0.13497106\n",
      " 0.24150044 0.03494789 0.15156888 0.20835755 0.07261291 0.2867673\n",
      " 0.01056683 0.21577164 0.07561104 0.06437827]\n"
     ]
    }
   ],
   "source": [
    "c_after_merger = np.random.uniform(0,c0,size = 100)\n",
    "print(c_after_merger)"
   ]
  },
  {
   "cell_type": "code",
   "execution_count": 11,
   "metadata": {},
   "outputs": [],
   "source": [
    "initial_guess = [0.17,0.33]"
   ]
  },
  {
   "cell_type": "code",
   "execution_count": 12,
   "metadata": {
    "deletable": false,
    "editable": false,
    "nbgrader": {
     "checksum": "11299317cd53e31de9900700999b0324",
     "grade": false,
     "grade_id": "cell-ce91ab3e3225c57d",
     "locked": true,
     "schema_version": 1,
     "solution": false
    }
   },
   "outputs": [],
   "source": [
    "c_after_merger = np.random.uniform(0,c0,size = 100)\n",
    "\n",
    "q1_after_merger = [optimize.fsolve(lambda q: fixed_point_two_firms(q,[c0,c]), initial_guess)[0] for c in c_after_merger]\n",
    "q2_after_merger = [optimize.fsolve(lambda q: fixed_point_two_firms(q,[c0,c]), initial_guess)[1] for c in c_after_merger]\n",
    "\n",
    "\n"
   ]
  },
  {
   "cell_type": "markdown",
   "metadata": {
    "deletable": false,
    "editable": false,
    "nbgrader": {
     "checksum": "2b518306d6ff20ee42d0bc3085333095",
     "grade": false,
     "grade_id": "cell-0acc18b4f07a09f4",
     "locked": true,
     "schema_version": 1,
     "solution": false
    }
   },
   "source": [
    "#### c) [0.5 points] Create a dataframe called `df_after_merger` with three columns: `c_merged_firm`, `output_non_merging_firm`, `output_merged_firm` containing resp. the cost level of the merged firm, the output level of firm 1 and the output level of firm 2."
   ]
  },
  {
   "cell_type": "code",
   "execution_count": 13,
   "metadata": {
    "deletable": false,
    "nbgrader": {
     "checksum": "f4fc6a3bdef91fa3f656ccd3290c9f54",
     "grade": true,
     "grade_id": "cell-f3eacda828774f2d",
     "locked": false,
     "points": 0.5,
     "schema_version": 1,
     "solution": true
    },
    "scrolled": true
   },
   "outputs": [
    {
     "name": "stdout",
     "output_type": "stream",
     "text": [
      "[0.29731119 0.23577924 0.24474794 0.17707934 0.04128338 0.1747394\n",
      " 0.17430176 0.07539199 0.08883401 0.15184492 0.05507086 0.16118815\n",
      " 0.00169438 0.18875859 0.03127332 0.10477148 0.15952571 0.01564152\n",
      " 0.18782933 0.10284087 0.24913463 0.20603518 0.29109031 0.00053805\n",
      " 0.20555608 0.18244158 0.11593774 0.05907317 0.11173764 0.2694077\n",
      " 0.00363428 0.08491645 0.1789657  0.21789969 0.0322337  0.05334108\n",
      " 0.07964901 0.2179428  0.17775068 0.24894225 0.2807923  0.0239405\n",
      " 0.25226397 0.29336798 0.12512923 0.05242872 0.2374417  0.05021156\n",
      " 0.04628415 0.08080628 0.0726612  0.15951933 0.25285603 0.23337334\n",
      " 0.11485971 0.00216834 0.13133289 0.03297238 0.17091358 0.13282415\n",
      " 0.03301992 0.20551969 0.03968012 0.17361661 0.16446686 0.27920521\n",
      " 0.22800514 0.19133336 0.02205695 0.11761405 0.06850631 0.15707424\n",
      " 0.1884136  0.24289108 0.10166159 0.09142599 0.00478423 0.19611238\n",
      " 0.1191553  0.27355145 0.17176618 0.08667699 0.15517107 0.07074627\n",
      " 0.15077197 0.16932688 0.01042004 0.03206564 0.10445082 0.29794587\n",
      " 0.10442953 0.21325254 0.19899248 0.12410253 0.11171708 0.11922483\n",
      " 0.27966456 0.28772292 0.05833506 0.28508037]\n",
      "[0.19471099482660134, 0.20874153678760038, 0.16068925495233402, 0.21882343610329022, 0.14262206845188521, 0.20287562753150376, 0.20668523623860613, 0.21922069203390668, 0.21561035127813613, 0.20817385180508863, 0.23122206929358846, 0.20905460271534054, 0.20392095677627423, 0.21247345324519615, 0.16606288081960927, 0.1810139017211371, 0.19865582331046133, 0.1780722361684755, 0.13535520701042117, 0.14781915073289295, 0.18957505922442464, 0.16521240958556008, 0.2005523570233329, 0.19031029777626807, 0.16972010985725397, 0.20116202899543834, 0.2279296447324157, 0.2057238693630337, 0.16139926831597437, 0.16969349271693945, 0.16236011617492227, 0.23024535027260998, 0.2178412084871036, 0.2052296547127748, 0.19911416802762974, 0.17764723806418148, 0.13549790965707126, 0.17056613999020406, 0.14623846381840822, 0.20504066137511795, 0.21935480898152507, 0.21934737177114708, 0.1886333327212748, 0.23258901999894122, 0.2154826132208652, 0.14217507793709694, 0.2289924990518574, 0.2110260369611577, 0.15375095018612386, 0.1596057573890821, 0.140525596525545, 0.21089519976961515, 0.22561424230794602, 0.1985351722885662, 0.15726515136150146, 0.14863219739965225, 0.21595028715078743, 0.17238858444106792, 0.21237992310433731, 0.15525268508896312, 0.16618904357883774, 0.15271530463234, 0.22171566532875378, 0.15512026112973817, 0.21974152440918376, 0.17258873340356776, 0.14909959449951932, 0.20097738008093324, 0.16270651194091781, 0.18103046929227204, 0.18143959130356618, 0.21861204661859965, 0.17354336159213005, 0.17493175122350177, 0.1784293413160327, 0.14760402441026288, 0.22623881203484944, 0.16096401933087426, 0.23147556260632574, 0.19492045427554236, 0.16072261100048613, 0.20715673965521408, 0.181036031362121, 0.2320643207565712, 0.15123840922313003, 0.15213381692996777, 0.18069999917799093, 0.21132805536677865, 0.17460679814400862, 0.16938765105284737, 0.21927298309521606, 0.1618029732775908, 0.17059106715551597, 0.20309491867711185, 0.20897915497874675, 0.19207682978993051, 0.22605663836227097, 0.16714484028519716, 0.16531780283184447, 0.16391104590396063]\n",
      "[0.3105780103467972, 0.28251692642479914, 0.37862149009533125, 0.2623531277934196, 0.4147558630962296, 0.2942487449369925, 0.286629527522788, 0.2615586159321868, 0.2687792974437278, 0.2836522963898222, 0.23755586141282337, 0.2818907945693195, 0.2921580864474514, 0.2750530935096076, 0.36787423836078165, 0.3379721965577263, 0.30268835337907746, 0.34385552766304844, 0.4292895859791575, 0.40436169853421444, 0.3208498815511512, 0.3695751808288805, 0.2988952859533347, 0.3193794044474639, 0.3605597802854919, 0.2976759420091232, 0.2441407105351682, 0.28855226127393263, 0.3772014633680513, 0.3606130145661211, 0.3752797676501558, 0.23950929945478003, 0.2643175830257928, 0.2895406905744503, 0.30177166394474053, 0.3447055238716376, 0.42900418068585755, 0.358867720019592, 0.40752307236318297, 0.28991867724976395, 0.2612903820369501, 0.26130525645770536, 0.32273333455745046, 0.23482196000211766, 0.26903477355826955, 0.41564984412580563, 0.2420150018962853, 0.2779479260776846, 0.3924980996277529, 0.3807884852218357, 0.41894880694890985, 0.2782096004607697, 0.24877151538410802, 0.30292965542286704, 0.3854696972769965, 0.40273560520069523, 0.26809942569842565, 0.3552228311178635, 0.2752401537913253, 0.3894946298220734, 0.36762191284232454, 0.39456939073532027, 0.25656866934249234, 0.3897594777405239, 0.26051695118163276, 0.35482253319286455, 0.40180081100096204, 0.2980452398381335, 0.37458697611816494, 0.33793906141545643, 0.3371208173928682, 0.2627759067628003, 0.35291327681573975, 0.350136497552997, 0.3431413173679347, 0.40479195117947464, 0.24752237593030096, 0.37807196133825133, 0.23704887478734848, 0.3101590914489157, 0.3785547779990284, 0.2856865206895718, 0.33792793727575743, 0.23587135848685803, 0.3975231815537405, 0.3957323661400642, 0.3386000016440181, 0.2773438892664434, 0.35078640371198283, 0.3612246978943046, 0.2614540338095678, 0.37639405344481847, 0.3588178656889681, 0.29381016264577614, 0.2820416900425065, 0.315846340420139, 0.24788672327545802, 0.36571031942960586, 0.369364394336311, 0.37217790819207874]\n"
     ]
    }
   ],
   "source": [
    "c_merged_firm = np.random.uniform(0,c0,size = 100)\n",
    "output_non_merging_firm = [optimize.fsolve(lambda q: fixed_point_two_firms(q,[c0,c]), initial_guess)[0] for c in c_after_merger]\n",
    "output_merged_firm = [optimize.fsolve(lambda q: fixed_point_two_firms(q,[c0,c]), initial_guess)[1] for c in c_after_merger]\n",
    "\n",
    "print(c_merged_firm)\n",
    "print(output_non_merging_firm)\n",
    "print(output_merged_firm)"
   ]
  },
  {
   "cell_type": "code",
   "execution_count": 14,
   "metadata": {},
   "outputs": [
    {
     "data": {
      "text/html": [
       "<div>\n",
       "<style scoped>\n",
       "    .dataframe tbody tr th:only-of-type {\n",
       "        vertical-align: middle;\n",
       "    }\n",
       "\n",
       "    .dataframe tbody tr th {\n",
       "        vertical-align: top;\n",
       "    }\n",
       "\n",
       "    .dataframe thead th {\n",
       "        text-align: right;\n",
       "    }\n",
       "</style>\n",
       "<table border=\"1\" class=\"dataframe\">\n",
       "  <thead>\n",
       "    <tr style=\"text-align: right;\">\n",
       "      <th></th>\n",
       "      <th>c_merged_firm</th>\n",
       "      <th>output_merged_firm</th>\n",
       "      <th>output_non_merging_firm</th>\n",
       "    </tr>\n",
       "  </thead>\n",
       "  <tbody>\n",
       "    <tr>\n",
       "      <th>0</th>\n",
       "      <td>0.099452</td>\n",
       "      <td>0.394866</td>\n",
       "      <td>0.152567</td>\n",
       "    </tr>\n",
       "    <tr>\n",
       "      <th>1</th>\n",
       "      <td>0.101581</td>\n",
       "      <td>0.248477</td>\n",
       "      <td>0.225761</td>\n",
       "    </tr>\n",
       "    <tr>\n",
       "      <th>2</th>\n",
       "      <td>0.010639</td>\n",
       "      <td>0.380898</td>\n",
       "      <td>0.159551</td>\n",
       "    </tr>\n",
       "    <tr>\n",
       "      <th>3</th>\n",
       "      <td>0.040009</td>\n",
       "      <td>0.274841</td>\n",
       "      <td>0.212579</td>\n",
       "    </tr>\n",
       "    <tr>\n",
       "      <th>4</th>\n",
       "      <td>0.206426</td>\n",
       "      <td>0.298623</td>\n",
       "      <td>0.200689</td>\n",
       "    </tr>\n",
       "  </tbody>\n",
       "</table>\n",
       "</div>"
      ],
      "text/plain": [
       "   c_merged_firm  output_merged_firm  output_non_merging_firm\n",
       "0       0.099452            0.394866                 0.152567\n",
       "1       0.101581            0.248477                 0.225761\n",
       "2       0.010639            0.380898                 0.159551\n",
       "3       0.040009            0.274841                 0.212579\n",
       "4       0.206426            0.298623                 0.200689"
      ]
     },
     "execution_count": 14,
     "metadata": {},
     "output_type": "execute_result"
    }
   ],
   "source": [
    "c_merged_firm = np.random.uniform(0,c0,size = 100)\n",
    "output_non_merging_firm = [optimize.fsolve(lambda q: fixed_point_two_firms(q,[c0,c]), initial_guess)[0] for c in c_after_merger]\n",
    "output_merged_firm = [optimize.fsolve(lambda q: fixed_point_two_firms(q,[c0,c]), initial_guess)[1] for c in c_after_merger]\n",
    "\n",
    "d = {\"c_merged_firm\" : [0.0994516, 0.10158101, 0.01063869, 0.04000915, 0.20642595, 0.16027914,\n",
    " 0.06702787, 0.22895568, 0.02842178, 0.1820986,  0.28541506, 0.24165426,\n",
    " 0.05335309, 0.29977617, 0.04535462, 0.25040444, 0.25316993, 0.00936518,\n",
    " 0.16005879, 0.07561174, 0.28680967, 0.27436744, 0.27660376, 0.06057441,\n",
    " 0.18672631, 0.17000706, 0.02053597, 0.26086582, 0.0594713,  0.27555222,\n",
    " 0.18651953, 0.26176123, 0.07356432, 0.29628222, 0.27207704, 0.08797635,\n",
    " 0.22604007, 0.17078956, 0.1867662, 0.20319565, 0.11898284, 0.03340563,\n",
    " 0.11329007, 0.01567811, 0.14212559, 0.12355679, 0.26126708, 0.28484158,\n",
    " 0.02529506, 0.05676232, 0.04783566, 0.07462524, 0.1166155,  0.03622193,\n",
    " 0.13160166, 0.20929717, 0.18831309, 0.2685396,  0.20858706, 0.04825272,\n",
    " 0.16297424, 0.13149478, 0.15362401, 0.26171983, 0.10787453, 0.22496504,\n",
    " 0.18319711, 0.06958299, 0.03304312, 0.07610926, 0.20737288, 0.20316658,\n",
    " 0.29501042, 0.15706661, 0.14633905, 0.22061739, 0.04321556, 0.14250859,\n",
    " 0.14324642, 0.15025253, 0.15929815, 0.06163144, 0.26764469, 0.28637354,\n",
    " 0.07915072, 0.21390437, 0.1701998, 0.03207456, 0.02637194, 0.24818689,\n",
    " 0.26946086, 0.16502705, 0.25741879, 0.27628862, 0.14009008, 0.26514784,\n",
    " 0.03739473, 0.09985946, 0.05048761, 0.14397507],\n",
    "     \"output_non_merging_firm\": [0.15256711775691278, 0.22576142077799932, 0.15955116029861663, 0.212579288354894, 0.20068850137017116, 0.13915117637161284, 0.17659839110630915, 0.1349390566116309, 0.17883889348164647, 0.23092994602987146, 0.17653380066298752, 0.21153420844169116, 0.14195171908406184, 0.15786478822087768, 0.19127854672695116, 0.17428863330338273, 0.18910472847893547, 0.14117451566306827, 0.2041341098030329, 0.15337395435513543, 0.1586062441211734, 0.18399686835554857, 0.22711881157806793, 0.23150866655902821, 0.20808485338517496, 0.20152046904657908, 0.19267844429443662, 0.21252461801890668, 0.16624143577407516, 0.1348877785691146, 0.18485130730991903, 0.22641275913210357, 0.14739179607828665, 0.23252511848602253, 0.1727226283998884, 0.21517558375936732, 0.20620433562987472, 0.1543624896957784, 0.16453573318333192, 0.20010986930210362, 0.1948904415372526, 0.1743285188989091, 0.14165389688789315, 0.13403890555136772, 0.20888596438413976, 0.16191353975429698, 0.2145517843724339, 0.19570728542105784, 0.1512834728197086, 0.18020200647571177, 0.20590016951046827, 0.2284829560017521, 0.1555696020788468, 0.17199951000004882, 0.21967770767373793, 0.22832228796747314, 0.16612013017465357, 0.20437898618664216, 0.19819051894380732, 0.1867022883684772, 0.1951063487878187, 0.1969622413236849, 0.13962158418174575, 0.18414904681518038, 0.14682933249519378, 0.16687545506471105, 0.13525967382017673, 0.22584580744965815, 0.182469524178438, 0.2073504469806956, 0.22163635772611245, 0.21327669545116948, 0.22642386753124674, 0.1501301166289394, 0.22470390323566644, 0.2047259401432847, 0.2135908426941657, 0.1870787541183584, 0.1993937224956539, 0.1601788156377563, 0.16050328936756428, 0.1675936143619595, 0.17419776658161415, 0.15633718842415575, 0.16711649440522533, 0.21745126337902443, 0.1852139375771324, 0.21762796507097149, 0.14993880482629446, 0.17079956059277412, 0.20342346823227034, 0.21165150469374142, 0.16407030067847306, 0.18724289678362557, 0.19624821409214901, 0.1555294378498042, 0.1870761790577496, 0.1639792437171315, 0.2287208725493979, 0.21673179218491886],\n",
    "     \"output_merged_firm\" : [0.3948657644861748, 0.24847715844400192, 0.3808976794027672, 0.27484142329021194, 0.2986229972596577, 0.4216976472567748, 0.34680321778738166, 0.4301218867767382, 0.3423222130367069, 0.23814010794025717, 0.3469323986740256, 0.2769315831166178, 0.4160965618318764, 0.3842704235582441, 0.3174429065460972, 0.35142273339323454, 0.32179054304212956, 0.41765096867386425, 0.2917317803939341, 0.3932520912897298, 0.3827875117576533, 0.332006263288903, 0.24576237684386423, 0.23698266688194344, 0.2838302932296504, 0.29695906190684185, 0.3146431114111267, 0.27495076396218665, 0.36751712845184964, 0.4302244428617702, 0.3302973853801613, 0.24717448173579304, 0.4052164078434266, 0.2349497630279554, 0.3545547432002233, 0.2696488324812652, 0.28759132874025056, 0.39127502060844344, 0.37092853363333633, 0.2997802613957934, 0.31021911692549536, 0.3513429622021813, 0.41669220622421377, 0.43192218889726464, 0.28222807123172006, 0.37617292049140655, 0.27089643125513263, 0.3085854291578842, 0.3974330543605825, 0.33959598704857646, 0.28819966097906385, 0.2430340879964959, 0.3888607958423065, 0.3560009799999022, 0.26064458465252455, 0.24335542406505387, 0.36775973965069286, 0.29124202762671514, 0.30361896211238526, 0.3265954232630452, 0.30978730242436303, 0.30607551735263017, 0.42075683163650845, 0.3317019063696391, 0.4063413350096123, 0.36624908987057775, 0.4294806523596474, 0.24830838510068362, 0.3350609516431239, 0.2852991060386089, 0.25672728454777494, 0.273446609097661, 0.24715226493750642, 0.399739766742121, 0.25059219352866696, 0.2905481197134309, 0.27281831461166856, 0.32584249176328256, 0.30121255500869215, 0.3796423687244874, 0.3789934212648715, 0.3648127712760815, 0.35160446683677166, 0.38732562315168856, 0.3657670111895494, 0.2650974732419513, 0.3295721248457353, 0.2647440698580567, 0.4001223903474111, 0.3584008788144517, 0.2931530635354598, 0.2766969906125167, 0.37185939864305445, 0.32551420643274875, 0.307503571815702, 0.3889411243003917, 0.3258476418845007, 0.372041512565737, 0.24255825490120417, 0.26653641563016206]}\n",
    "\n",
    "df_after_merger = pd.DataFrame(data = d)\n",
    "df_after_merger.head()"
   ]
  },
  {
   "cell_type": "markdown",
   "metadata": {
    "deletable": false,
    "editable": false,
    "nbgrader": {
     "checksum": "a5bf4171960844da9c57375d83b6eedf",
     "grade": false,
     "grade_id": "cell-7ad058be42e19df8",
     "locked": true,
     "schema_version": 1,
     "solution": false
    }
   },
   "source": [
    "#### d) [0.5 points] Add three columns to the dataframe with resp. total equilibrium output on the market, `Q`, equilibrium price, `P` and the Herfindahl index, `H`."
   ]
  },
  {
   "cell_type": "code",
   "execution_count": 15,
   "metadata": {
    "deletable": false,
    "nbgrader": {
     "checksum": "ab6179623b39a6ae634abea45326e4ab",
     "grade": true,
     "grade_id": "cell-9c39b11747803ca1",
     "locked": false,
     "points": 0.5,
     "schema_version": 1,
     "solution": true
    }
   },
   "outputs": [
    {
     "data": {
      "text/html": [
       "<div>\n",
       "<style scoped>\n",
       "    .dataframe tbody tr th:only-of-type {\n",
       "        vertical-align: middle;\n",
       "    }\n",
       "\n",
       "    .dataframe tbody tr th {\n",
       "        vertical-align: top;\n",
       "    }\n",
       "\n",
       "    .dataframe thead th {\n",
       "        text-align: right;\n",
       "    }\n",
       "</style>\n",
       "<table border=\"1\" class=\"dataframe\">\n",
       "  <thead>\n",
       "    <tr style=\"text-align: right;\">\n",
       "      <th></th>\n",
       "      <th>c_merged_firm</th>\n",
       "      <th>output_merged_firm</th>\n",
       "      <th>output_non_merging_firm</th>\n",
       "      <th>Q</th>\n",
       "    </tr>\n",
       "  </thead>\n",
       "  <tbody>\n",
       "    <tr>\n",
       "      <th>0</th>\n",
       "      <td>0.099452</td>\n",
       "      <td>0.394866</td>\n",
       "      <td>0.152567</td>\n",
       "      <td>0.547433</td>\n",
       "    </tr>\n",
       "    <tr>\n",
       "      <th>1</th>\n",
       "      <td>0.101581</td>\n",
       "      <td>0.248477</td>\n",
       "      <td>0.225761</td>\n",
       "      <td>0.474239</td>\n",
       "    </tr>\n",
       "    <tr>\n",
       "      <th>2</th>\n",
       "      <td>0.010639</td>\n",
       "      <td>0.380898</td>\n",
       "      <td>0.159551</td>\n",
       "      <td>0.540449</td>\n",
       "    </tr>\n",
       "    <tr>\n",
       "      <th>3</th>\n",
       "      <td>0.040009</td>\n",
       "      <td>0.274841</td>\n",
       "      <td>0.212579</td>\n",
       "      <td>0.487421</td>\n",
       "    </tr>\n",
       "    <tr>\n",
       "      <th>4</th>\n",
       "      <td>0.206426</td>\n",
       "      <td>0.298623</td>\n",
       "      <td>0.200689</td>\n",
       "      <td>0.499311</td>\n",
       "    </tr>\n",
       "  </tbody>\n",
       "</table>\n",
       "</div>"
      ],
      "text/plain": [
       "   c_merged_firm  output_merged_firm  output_non_merging_firm         Q\n",
       "0       0.099452            0.394866                 0.152567  0.547433\n",
       "1       0.101581            0.248477                 0.225761  0.474239\n",
       "2       0.010639            0.380898                 0.159551  0.540449\n",
       "3       0.040009            0.274841                 0.212579  0.487421\n",
       "4       0.206426            0.298623                 0.200689  0.499311"
      ]
     },
     "execution_count": 15,
     "metadata": {},
     "output_type": "execute_result"
    }
   ],
   "source": [
    "df_after_merger['Q'] = df_after_merger['output_merged_firm'] + df_after_merger['output_non_merging_firm']\n",
    "df_after_merger.head()"
   ]
  },
  {
   "cell_type": "code",
   "execution_count": 16,
   "metadata": {},
   "outputs": [
    {
     "data": {
      "text/html": [
       "<div>\n",
       "<style scoped>\n",
       "    .dataframe tbody tr th:only-of-type {\n",
       "        vertical-align: middle;\n",
       "    }\n",
       "\n",
       "    .dataframe tbody tr th {\n",
       "        vertical-align: top;\n",
       "    }\n",
       "\n",
       "    .dataframe thead th {\n",
       "        text-align: right;\n",
       "    }\n",
       "</style>\n",
       "<table border=\"1\" class=\"dataframe\">\n",
       "  <thead>\n",
       "    <tr style=\"text-align: right;\">\n",
       "      <th></th>\n",
       "      <th>c_merged_firm</th>\n",
       "      <th>output_merged_firm</th>\n",
       "      <th>output_non_merging_firm</th>\n",
       "      <th>Q</th>\n",
       "      <th>P</th>\n",
       "    </tr>\n",
       "  </thead>\n",
       "  <tbody>\n",
       "    <tr>\n",
       "      <th>0</th>\n",
       "      <td>0.099452</td>\n",
       "      <td>0.394866</td>\n",
       "      <td>0.152567</td>\n",
       "      <td>0.547433</td>\n",
       "      <td>0.452567</td>\n",
       "    </tr>\n",
       "    <tr>\n",
       "      <th>1</th>\n",
       "      <td>0.101581</td>\n",
       "      <td>0.248477</td>\n",
       "      <td>0.225761</td>\n",
       "      <td>0.474239</td>\n",
       "      <td>0.525761</td>\n",
       "    </tr>\n",
       "    <tr>\n",
       "      <th>2</th>\n",
       "      <td>0.010639</td>\n",
       "      <td>0.380898</td>\n",
       "      <td>0.159551</td>\n",
       "      <td>0.540449</td>\n",
       "      <td>0.459551</td>\n",
       "    </tr>\n",
       "    <tr>\n",
       "      <th>3</th>\n",
       "      <td>0.040009</td>\n",
       "      <td>0.274841</td>\n",
       "      <td>0.212579</td>\n",
       "      <td>0.487421</td>\n",
       "      <td>0.512579</td>\n",
       "    </tr>\n",
       "    <tr>\n",
       "      <th>4</th>\n",
       "      <td>0.206426</td>\n",
       "      <td>0.298623</td>\n",
       "      <td>0.200689</td>\n",
       "      <td>0.499311</td>\n",
       "      <td>0.500689</td>\n",
       "    </tr>\n",
       "  </tbody>\n",
       "</table>\n",
       "</div>"
      ],
      "text/plain": [
       "   c_merged_firm  output_merged_firm  output_non_merging_firm         Q  \\\n",
       "0       0.099452            0.394866                 0.152567  0.547433   \n",
       "1       0.101581            0.248477                 0.225761  0.474239   \n",
       "2       0.010639            0.380898                 0.159551  0.540449   \n",
       "3       0.040009            0.274841                 0.212579  0.487421   \n",
       "4       0.206426            0.298623                 0.200689  0.499311   \n",
       "\n",
       "          P  \n",
       "0  0.452567  \n",
       "1  0.525761  \n",
       "2  0.459551  \n",
       "3  0.512579  \n",
       "4  0.500689  "
      ]
     },
     "execution_count": 16,
     "metadata": {},
     "output_type": "execute_result"
    }
   ],
   "source": [
    "df_after_merger['P'] = 1 - df_after_merger['Q']\n",
    "df_after_merger.head()"
   ]
  },
  {
   "cell_type": "code",
   "execution_count": 17,
   "metadata": {},
   "outputs": [
    {
     "data": {
      "text/html": [
       "<div>\n",
       "<style scoped>\n",
       "    .dataframe tbody tr th:only-of-type {\n",
       "        vertical-align: middle;\n",
       "    }\n",
       "\n",
       "    .dataframe tbody tr th {\n",
       "        vertical-align: top;\n",
       "    }\n",
       "\n",
       "    .dataframe thead th {\n",
       "        text-align: right;\n",
       "    }\n",
       "</style>\n",
       "<table border=\"1\" class=\"dataframe\">\n",
       "  <thead>\n",
       "    <tr style=\"text-align: right;\">\n",
       "      <th></th>\n",
       "      <th>c_merged_firm</th>\n",
       "      <th>output_merged_firm</th>\n",
       "      <th>output_non_merging_firm</th>\n",
       "      <th>Q</th>\n",
       "      <th>P</th>\n",
       "      <th>H</th>\n",
       "    </tr>\n",
       "  </thead>\n",
       "  <tbody>\n",
       "    <tr>\n",
       "      <th>0</th>\n",
       "      <td>0.099452</td>\n",
       "      <td>0.394866</td>\n",
       "      <td>0.152567</td>\n",
       "      <td>0.547433</td>\n",
       "      <td>0.452567</td>\n",
       "      <td>0.179196</td>\n",
       "    </tr>\n",
       "    <tr>\n",
       "      <th>1</th>\n",
       "      <td>0.101581</td>\n",
       "      <td>0.248477</td>\n",
       "      <td>0.225761</td>\n",
       "      <td>0.474239</td>\n",
       "      <td>0.525761</td>\n",
       "      <td>0.112709</td>\n",
       "    </tr>\n",
       "    <tr>\n",
       "      <th>2</th>\n",
       "      <td>0.010639</td>\n",
       "      <td>0.380898</td>\n",
       "      <td>0.159551</td>\n",
       "      <td>0.540449</td>\n",
       "      <td>0.459551</td>\n",
       "      <td>0.170540</td>\n",
       "    </tr>\n",
       "    <tr>\n",
       "      <th>3</th>\n",
       "      <td>0.040009</td>\n",
       "      <td>0.274841</td>\n",
       "      <td>0.212579</td>\n",
       "      <td>0.487421</td>\n",
       "      <td>0.512579</td>\n",
       "      <td>0.120728</td>\n",
       "    </tr>\n",
       "    <tr>\n",
       "      <th>4</th>\n",
       "      <td>0.206426</td>\n",
       "      <td>0.298623</td>\n",
       "      <td>0.200689</td>\n",
       "      <td>0.499311</td>\n",
       "      <td>0.500689</td>\n",
       "      <td>0.129452</td>\n",
       "    </tr>\n",
       "  </tbody>\n",
       "</table>\n",
       "</div>"
      ],
      "text/plain": [
       "   c_merged_firm  output_merged_firm  output_non_merging_firm         Q  \\\n",
       "0       0.099452            0.394866                 0.152567  0.547433   \n",
       "1       0.101581            0.248477                 0.225761  0.474239   \n",
       "2       0.010639            0.380898                 0.159551  0.540449   \n",
       "3       0.040009            0.274841                 0.212579  0.487421   \n",
       "4       0.206426            0.298623                 0.200689  0.499311   \n",
       "\n",
       "          P         H  \n",
       "0  0.452567  0.179196  \n",
       "1  0.525761  0.112709  \n",
       "2  0.459551  0.170540  \n",
       "3  0.512579  0.120728  \n",
       "4  0.500689  0.129452  "
      ]
     },
     "execution_count": 17,
     "metadata": {},
     "output_type": "execute_result"
    }
   ],
   "source": [
    "df_after_merger['H'] = (df_after_merger['output_non_merging_firm']**2) + (df_after_merger['output_merged_firm']**2)\n",
    "df_after_merger.head()"
   ]
  },
  {
   "cell_type": "markdown",
   "metadata": {},
   "source": [
    "#### e) [0.5 points] Make a histogram of the equilibrium price `P` after the merger. Also indicate in the histogram the equilibrium price before the merger `P0`. Label the horizontal axis with $P$.\n",
    "\n",
    "[hint: you may want to use matplotlib's `hist`, `vlines` and `legend` to make this graph (e.g use google to find these functions); but feel free to use something else]"
   ]
  },
  {
   "cell_type": "code",
   "execution_count": 18,
   "metadata": {
    "deletable": false,
    "nbgrader": {
     "checksum": "b103cd98545261b20f937f4b9db67f68",
     "grade": true,
     "grade_id": "cell-f9193bf8e71f1a9a",
     "locked": false,
     "points": 0.5,
     "schema_version": 1,
     "solution": true
    }
   },
   "outputs": [
    {
     "data": {
      "text/plain": [
       "<function matplotlib.pyplot.show>"
      ]
     },
     "execution_count": 18,
     "metadata": {},
     "output_type": "execute_result"
    },
    {
     "data": {
      "image/png": "[encoded data removed]",
      "text/plain": [
       "<matplotlib.figure.Figure at 0x12754713518>"
      ]
     },
     "metadata": {},
     "output_type": "display_data"
    }
   ],
   "source": [
    "plt.hist(df_after_merger['P'], bins=20, color='pink')\n",
    "plt.hist(P0, range = (0.43,0.53))\n",
    "plt.title('Equilibrium price after merger')\n",
    "plt.xlabel('P')\n",
    "plt.ylabel(\"Frequency\")\n",
    "plt.show"
   ]
  },
  {
   "cell_type": "markdown",
   "metadata": {},
   "source": [
    "#### f) [0.5 points] Explain why sometimes the equilibrium price after the merger exceeds the equilibrium price before the merger and sometimes it is lower than the pre-merger price. [hint: there is a trade off between two effects, depending on which effect dominates, equilibrium price increases or decreases after the merger]"
   ]
  },
  {
   "cell_type": "markdown",
   "metadata": {
    "deletable": false,
    "nbgrader": {
     "checksum": "dd9fc721b7cf7f66587e93cbfb758034",
     "grade": true,
     "grade_id": "cell-7a1f367cd2854156",
     "locked": false,
     "points": 0.5,
     "schema_version": 1,
     "solution": true
    }
   },
   "source": [
    "After the merger there is less competition, so that can be a reason why the equilibrium price after the merger exceeds the equilibirium price before the merger. A resean why the pre-merger price can be higher, is because the merged firm has now more expertise and because of this expertise they can produce with a lower cost. If that is true they can set a lower equilibrium price, so that the merged firm can scare away the other firm. So it can gain more market share.  "
   ]
  },
  {
   "cell_type": "markdown",
   "metadata": {
    "deletable": false,
    "editable": false,
    "nbgrader": {
     "checksum": "e1e41dbf14c605bf91cdc78f70eada99",
     "grade": false,
     "grade_id": "cell-06ed6044f8938a45",
     "locked": true,
     "schema_version": 1,
     "solution": false
    }
   },
   "source": [
    "#### g) [0.5 points] Make a graph with the Herfindahl index on the horizontal axis and the equilibrium price on the vertical axis. This is straightforward for $(H,P)$ after the merger as both values are in the dataframe. Add in another color, the pre-merger combination `(H0,P0)` that we calculated above."
   ]
  },
  {
   "cell_type": "code",
   "execution_count": 19,
   "metadata": {
    "deletable": false,
    "nbgrader": {
     "checksum": "51cfaacbaf533e85d9794bc74712afd5",
     "grade": true,
     "grade_id": "cell-d647464d04870b73",
     "locked": false,
     "points": 0.5,
     "schema_version": 1,
     "solution": true
    }
   },
   "outputs": [
    {
     "data": {
      "text/plain": [
       "Text(0.5,1,'Pre-merger combination vs post-merger combination')"
      ]
     },
     "execution_count": 19,
     "metadata": {},
     "output_type": "execute_result"
    },
    {
     "data": {
      "image/png": "[encoded data removed]",
      "text/plain": [
       "<matplotlib.figure.Figure at 0x1275472fc18>"
      ]
     },
     "metadata": {},
     "output_type": "display_data"
    }
   ],
   "source": [
    "plt.plot(df_after_merger['H'], df_after_merger['P'], label = 'post-merger combinations', color = 'green')\n",
    "plt.ylabel('P')\n",
    "plt.xlabel ('H')\n",
    "plt.scatter(0.33326667, 0.475, color = 'red', label = 'pre-merger combination')\n",
    "plt.legend()\n",
    "plt.title('Pre-merger combination vs post-merger combination')\n"
   ]
  },
  {
   "cell_type": "markdown",
   "metadata": {
    "deletable": false,
    "editable": false,
    "nbgrader": {
     "checksum": "11b6609131b1c25886f2c6cafe0f7a59",
     "grade": false,
     "grade_id": "cell-5c5e5776a7c135a2",
     "locked": true,
     "schema_version": 1,
     "solution": false
    }
   },
   "source": [
    "#### h) [0.5 points] Use the graph under g) to discuss the relation between the Herfindahl index and the equilibrium price. To illustrate, some people think that lower values of the Herfindahl index are associated with more competitive outcome. Would you agree with this?"
   ]
  },
  {
   "cell_type": "markdown",
   "metadata": {
    "collapsed": true,
    "deletable": false,
    "nbgrader": {
     "checksum": "3d396887dde3b00420c623b9f4ea8ed2",
     "grade": true,
     "grade_id": "cell-cbd89d483b23a953",
     "locked": false,
     "points": 0.5,
     "schema_version": 1,
     "solution": true
    }
   },
   "source": [
    "As you can see in the graph, how higher the Herfindahl index, how higher the price. A lower Herfindahl index indicates more competition. So I would agree with the people who think that lower values of the Herfindahl index are associated with more competitive outcome. Because usually when there is more competition, the price will be lower. "
   ]
  },
  {
   "cell_type": "markdown",
   "metadata": {},
   "source": [
    "## Github\n",
    "\n",
    "After you have finished, we need to upload this notebook on github. Make sure that you upload the file on the github page of each collaborator."
   ]
  },
  {
   "cell_type": "markdown",
   "metadata": {},
   "source": [
    "Instructions on how to upload this on github can be found [on this page](http://janboone.github.io/programming-for-economists/github.html). This page has two screencasts: one shows how to drag the notebook onto your github page, the other shows how you can use the command line to upload your notebook.\n"
   ]
  },
  {
   "cell_type": "markdown",
   "metadata": {},
   "source": [
    "Remember to update the README file in your repository to include a link to this notebook on github.\n",
    "\n",
    "\n",
    "The links that you should post start with “github.com/” and are NOT of the form “http://localhost”. Make sure you test your links after uploading."
   ]
  },
  {
   "cell_type": "code",
   "execution_count": null,
   "metadata": {},
   "outputs": [],
   "source": []
  }
 ],
 "metadata": {
  "anaconda-cloud": {},
  "kernelspec": {
   "display_name": "Python 3",
   "language": "python",
   "name": "python3"
  },
  "language_info": {
   "codemirror_mode": {
    "name": "ipython",
    "version": 3
   },
   "file_extension": ".py",
   "mimetype": "text/x-python",
   "name": "python",
   "nbconvert_exporter": "python",
   "pygments_lexer": "ipython3",
   "version": "3.6.4"
  }
 },
 "nbformat": 4,
 "nbformat_minor": 1
}
